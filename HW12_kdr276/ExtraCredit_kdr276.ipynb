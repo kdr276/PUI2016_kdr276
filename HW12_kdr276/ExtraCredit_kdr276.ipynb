{
 "cells": [
  {
   "cell_type": "code",
   "execution_count": 1,
   "metadata": {
    "collapsed": false
   },
   "outputs": [
    {
     "name": "stdout",
     "output_type": "stream",
     "text": [
      "Populating the interactive namespace from numpy and matplotlib\n"
     ]
    }
   ],
   "source": [
    "import os\n",
    "import ast\n",
    "import urllib2\n",
    "import urllib\n",
    "from cStringIO import StringIO\n",
    "import json\n",
    "import geopandas as gpd\n",
    "import pandas as pd\n",
    "import shapely\n",
    "import pylab as pl\n",
    "%pylab inline"
   ]
  },
  {
   "cell_type": "code",
   "execution_count": 2,
   "metadata": {
    "collapsed": true
   },
   "outputs": [],
   "source": [
    "SQL_SOURCE = 'https://fb55.carto.com/api/v2/sql'\n",
    "\n",
    "def queryCartoDB(query, format='CSV', source=SQL_SOURCE):\n",
    "    \"\"\" queries a url with an sql compatible search\n",
    "    Arguments:\n",
    "    query : the sql query string\n",
    "    format : the expected format\n",
    "    source \" the url of the API\n",
    "    \"\"\"\n",
    "    data = urllib.urlencode({'format': format, 'q': query})\n",
    "    try:\n",
    "        response = urllib2.urlopen(source, data)\n",
    "    except urllib2.HTTPError, e:\n",
    "        raise ValueError('\\n'.join(ast.literal_eval(e.readline())['error']))\n",
    "    except Exception:\n",
    "        raise\n",
    "    return StringIO(response.read())"
   ]
  },
  {
   "cell_type": "code",
   "execution_count": 3,
   "metadata": {
    "collapsed": false
   },
   "outputs": [
    {
     "data": {
      "text/html": [
       "<div>\n",
       "<table border=\"1\" class=\"dataframe\">\n",
       "  <thead>\n",
       "    <tr style=\"text-align: right;\">\n",
       "      <th></th>\n",
       "      <th>Count</th>\n",
       "      <th>ZIPCODE</th>\n",
       "    </tr>\n",
       "  </thead>\n",
       "  <tbody>\n",
       "    <tr>\n",
       "      <th>0</th>\n",
       "      <td>1699</td>\n",
       "      <td>10461</td>\n",
       "    </tr>\n",
       "    <tr>\n",
       "      <th>1</th>\n",
       "      <td>405</td>\n",
       "      <td>11373</td>\n",
       "    </tr>\n",
       "    <tr>\n",
       "      <th>2</th>\n",
       "      <td>1698</td>\n",
       "      <td>10451</td>\n",
       "    </tr>\n",
       "    <tr>\n",
       "      <th>3</th>\n",
       "      <td>220</td>\n",
       "      <td>11691</td>\n",
       "    </tr>\n",
       "    <tr>\n",
       "      <th>4</th>\n",
       "      <td>246</td>\n",
       "      <td>11375</td>\n",
       "    </tr>\n",
       "    <tr>\n",
       "      <th>5</th>\n",
       "      <td>494</td>\n",
       "      <td>10466</td>\n",
       "    </tr>\n",
       "    <tr>\n",
       "      <th>6</th>\n",
       "      <td>713</td>\n",
       "      <td>11212</td>\n",
       "    </tr>\n",
       "    <tr>\n",
       "      <th>7</th>\n",
       "      <td>167</td>\n",
       "      <td>11229</td>\n",
       "    </tr>\n",
       "    <tr>\n",
       "      <th>8</th>\n",
       "      <td>521</td>\n",
       "      <td>11215</td>\n",
       "    </tr>\n",
       "    <tr>\n",
       "      <th>9</th>\n",
       "      <td>386</td>\n",
       "      <td>11220</td>\n",
       "    </tr>\n",
       "    <tr>\n",
       "      <th>10</th>\n",
       "      <td>641</td>\n",
       "      <td>11355</td>\n",
       "    </tr>\n",
       "    <tr>\n",
       "      <th>11</th>\n",
       "      <td>376</td>\n",
       "      <td>11213</td>\n",
       "    </tr>\n",
       "    <tr>\n",
       "      <th>12</th>\n",
       "      <td>567</td>\n",
       "      <td>11418</td>\n",
       "    </tr>\n",
       "    <tr>\n",
       "      <th>13</th>\n",
       "      <td>411</td>\n",
       "      <td>10310</td>\n",
       "    </tr>\n",
       "    <tr>\n",
       "      <th>14</th>\n",
       "      <td>1829</td>\n",
       "      <td>11203</td>\n",
       "    </tr>\n",
       "    <tr>\n",
       "      <th>15</th>\n",
       "      <td>281</td>\n",
       "      <td>11102</td>\n",
       "    </tr>\n",
       "    <tr>\n",
       "      <th>16</th>\n",
       "      <td>222</td>\n",
       "      <td>11234</td>\n",
       "    </tr>\n",
       "    <tr>\n",
       "      <th>17</th>\n",
       "      <td>1156</td>\n",
       "      <td>11237</td>\n",
       "    </tr>\n",
       "    <tr>\n",
       "      <th>18</th>\n",
       "      <td>421</td>\n",
       "      <td>11219</td>\n",
       "    </tr>\n",
       "    <tr>\n",
       "      <th>19</th>\n",
       "      <td>822</td>\n",
       "      <td>10457</td>\n",
       "    </tr>\n",
       "    <tr>\n",
       "      <th>20</th>\n",
       "      <td>320</td>\n",
       "      <td>11235</td>\n",
       "    </tr>\n",
       "    <tr>\n",
       "      <th>21</th>\n",
       "      <td>466</td>\n",
       "      <td>11206</td>\n",
       "    </tr>\n",
       "    <tr>\n",
       "      <th>22</th>\n",
       "      <td>1072</td>\n",
       "      <td>10456</td>\n",
       "    </tr>\n",
       "    <tr>\n",
       "      <th>23</th>\n",
       "      <td>926</td>\n",
       "      <td>11040</td>\n",
       "    </tr>\n",
       "    <tr>\n",
       "      <th>24</th>\n",
       "      <td>940</td>\n",
       "      <td>11201</td>\n",
       "    </tr>\n",
       "    <tr>\n",
       "      <th>25</th>\n",
       "      <td>2164</td>\n",
       "      <td>10467</td>\n",
       "    </tr>\n",
       "    <tr>\n",
       "      <th>26</th>\n",
       "      <td>293</td>\n",
       "      <td>11432</td>\n",
       "    </tr>\n",
       "    <tr>\n",
       "      <th>27</th>\n",
       "      <td>447</td>\n",
       "      <td>10305</td>\n",
       "    </tr>\n",
       "    <tr>\n",
       "      <th>28</th>\n",
       "      <td>145</td>\n",
       "      <td>10309</td>\n",
       "    </tr>\n",
       "  </tbody>\n",
       "</table>\n",
       "</div>"
      ],
      "text/plain": [
       "    Count  ZIPCODE\n",
       "0    1699    10461\n",
       "1     405    11373\n",
       "2    1698    10451\n",
       "3     220    11691\n",
       "4     246    11375\n",
       "5     494    10466\n",
       "6     713    11212\n",
       "7     167    11229\n",
       "8     521    11215\n",
       "9     386    11220\n",
       "10    641    11355\n",
       "11    376    11213\n",
       "12    567    11418\n",
       "13    411    10310\n",
       "14   1829    11203\n",
       "15    281    11102\n",
       "16    222    11234\n",
       "17   1156    11237\n",
       "18    421    11219\n",
       "19    822    10457\n",
       "20    320    11235\n",
       "21    466    11206\n",
       "22   1072    10456\n",
       "23    926    11040\n",
       "24    940    11201\n",
       "25   2164    10467\n",
       "26    293    11432\n",
       "27    447    10305\n",
       "28    145    10309"
      ]
     },
     "execution_count": 3,
     "metadata": {},
     "output_type": "execute_result"
    }
   ],
   "source": [
    "# fill in the query details in facilityQuery: \n",
    "# within a single query collect AND GROUP the data by zipcode\n",
    "facilityQuery = '''SELECT COUNT (cartodb_id), zipcodes \n",
    "FROM nycasthmasdismissals\n",
    "GROUP BY zipcodes\n",
    "'''\n",
    "facilityStream = queryCartoDB(facilityQuery, format='JSON')\n",
    "facilityData   = json.loads(facilityStream.read())\n",
    "facilities     = pd.DataFrame(facilityData['rows'])\n",
    "facilities.columns = ['Count', 'ZIPCODE']\n",
    "facilities['ZIPCODE'] = facilities['ZIPCODE'].apply(pd.to_numeric)\n",
    "facilities"
   ]
  },
  {
   "cell_type": "code",
   "execution_count": 4,
   "metadata": {
    "collapsed": false
   },
   "outputs": [
    {
     "name": "stderr",
     "output_type": "stream",
     "text": [
      "/opt/rh/anaconda/root/envs/PUI2016_Python2/lib/python2.7/site-packages/ipykernel/__main__.py:5: SettingWithCopyWarning: \n",
      "A value is trying to be set on a copy of a slice from a DataFrame.\n",
      "Try using .loc[row_indexer,col_indexer] = value instead\n",
      "\n",
      "See the caveats in the documentation: http://pandas.pydata.org/pandas-docs/stable/indexing.html#indexing-view-versus-copy\n"
     ]
    },
    {
     "data": {
      "text/html": [
       "<div>\n",
       "<table border=\"1\" class=\"dataframe\">\n",
       "  <thead>\n",
       "    <tr style=\"text-align: right;\">\n",
       "      <th></th>\n",
       "      <th>ZIPCODE</th>\n",
       "      <th>geometry</th>\n",
       "    </tr>\n",
       "  </thead>\n",
       "  <tbody>\n",
       "    <tr>\n",
       "      <th>0</th>\n",
       "      <td>11436</td>\n",
       "      <td>POLYGON ((1038098.251871482 188138.3800067157,...</td>\n",
       "    </tr>\n",
       "    <tr>\n",
       "      <th>1</th>\n",
       "      <td>11213</td>\n",
       "      <td>POLYGON ((1001613.712964058 186926.4395172149,...</td>\n",
       "    </tr>\n",
       "    <tr>\n",
       "      <th>2</th>\n",
       "      <td>11212</td>\n",
       "      <td>POLYGON ((1011174.275535807 183696.33770971, 1...</td>\n",
       "    </tr>\n",
       "    <tr>\n",
       "      <th>3</th>\n",
       "      <td>11225</td>\n",
       "      <td>POLYGON ((995908.3654508889 183617.6128015518,...</td>\n",
       "    </tr>\n",
       "    <tr>\n",
       "      <th>4</th>\n",
       "      <td>11218</td>\n",
       "      <td>POLYGON ((991997.1134308875 176307.4958601296,...</td>\n",
       "    </tr>\n",
       "  </tbody>\n",
       "</table>\n",
       "</div>"
      ],
      "text/plain": [
       "   ZIPCODE                                           geometry\n",
       "0    11436  POLYGON ((1038098.251871482 188138.3800067157,...\n",
       "1    11213  POLYGON ((1001613.712964058 186926.4395172149,...\n",
       "2    11212  POLYGON ((1011174.275535807 183696.33770971, 1...\n",
       "3    11225  POLYGON ((995908.3654508889 183617.6128015518,...\n",
       "4    11218  POLYGON ((991997.1134308875 176307.4958601296,..."
      ]
     },
     "execution_count": 4,
     "metadata": {},
     "output_type": "execute_result"
    }
   ],
   "source": [
    "# Load zipcode shapefile and reduce columns\n",
    "shape_path = os.getenv(\"PUIDATA\") + \"/ExtraCredit_HW12/ZIP_CODE_040114.shp\"\n",
    "zipcode_shape = gpd.GeoDataFrame.from_file(shape_path)\n",
    "zipcode_reduced = zipcode_shape[[\"ZIPCODE\", \"geometry\"]]\n",
    "zipcode_reduced[\"ZIPCODE\"] = zipcode_reduced[\"ZIPCODE\"].apply(pd.to_numeric)\n",
    "zipcode_reduced.head()"
   ]
  },
  {
   "cell_type": "code",
   "execution_count": 5,
   "metadata": {
    "collapsed": false
   },
   "outputs": [
    {
     "name": "stderr",
     "output_type": "stream",
     "text": [
      "/opt/rh/anaconda/root/envs/PUI2016_Python2/lib/python2.7/site-packages/ipykernel/__main__.py:2: SettingWithCopyWarning: \n",
      "A value is trying to be set on a copy of a slice from a DataFrame.\n",
      "Try using .loc[row_indexer,col_indexer] = value instead\n",
      "\n",
      "See the caveats in the documentation: http://pandas.pydata.org/pandas-docs/stable/indexing.html#indexing-view-versus-copy\n",
      "  from ipykernel import kernelapp as app\n"
     ]
    }
   ],
   "source": [
    "# Convert geometry field to zipcode centroid data\n",
    "zipcode_reduced['geometry'] = gpd.GeoSeries(zipcode_reduced.centroid)"
   ]
  },
  {
   "cell_type": "code",
   "execution_count": 6,
   "metadata": {
    "collapsed": false
   },
   "outputs": [
    {
     "data": {
      "text/html": [
       "<div>\n",
       "<table border=\"1\" class=\"dataframe\">\n",
       "  <thead>\n",
       "    <tr style=\"text-align: right;\">\n",
       "      <th></th>\n",
       "      <th>ZIPCODE</th>\n",
       "      <th>geometry</th>\n",
       "      <th>Count</th>\n",
       "    </tr>\n",
       "  </thead>\n",
       "  <tbody>\n",
       "    <tr>\n",
       "      <th>0</th>\n",
       "      <td>11213</td>\n",
       "      <td>POINT (1001912.871996466 183803.1131420481)</td>\n",
       "      <td>376</td>\n",
       "    </tr>\n",
       "    <tr>\n",
       "      <th>1</th>\n",
       "      <td>11212</td>\n",
       "      <td>POINT (1008365.375095716 180768.9448568909)</td>\n",
       "      <td>713</td>\n",
       "    </tr>\n",
       "    <tr>\n",
       "      <th>2</th>\n",
       "      <td>11219</td>\n",
       "      <td>POINT (985172.779324743 169813.4852984693)</td>\n",
       "      <td>421</td>\n",
       "    </tr>\n",
       "    <tr>\n",
       "      <th>3</th>\n",
       "      <td>10466</td>\n",
       "      <td>POINT (1026647.114925691 263909.2896452093)</td>\n",
       "      <td>494</td>\n",
       "    </tr>\n",
       "    <tr>\n",
       "      <th>4</th>\n",
       "      <td>10467</td>\n",
       "      <td>POINT (1020059.119296007 259287.5178783316)</td>\n",
       "      <td>2164</td>\n",
       "    </tr>\n",
       "  </tbody>\n",
       "</table>\n",
       "</div>"
      ],
      "text/plain": [
       "   ZIPCODE                                     geometry  Count\n",
       "0    11213  POINT (1001912.871996466 183803.1131420481)    376\n",
       "1    11212  POINT (1008365.375095716 180768.9448568909)    713\n",
       "2    11219   POINT (985172.779324743 169813.4852984693)    421\n",
       "3    10466  POINT (1026647.114925691 263909.2896452093)    494\n",
       "4    10467  POINT (1020059.119296007 259287.5178783316)   2164"
      ]
     },
     "execution_count": 6,
     "metadata": {},
     "output_type": "execute_result"
    }
   ],
   "source": [
    "#merge datasets together on the ZIPCODE column\n",
    "zipcode_merged = zipcode_reduced.merge(facilities, on = 'ZIPCODE')\n",
    "zipcode_merged.head()"
   ]
  },
  {
   "cell_type": "code",
   "execution_count": 7,
   "metadata": {
    "collapsed": false
   },
   "outputs": [
    {
     "data": {
      "text/plain": [
       "array([[ 0.,  0.,  0.],\n",
       "       [ 0.,  0.,  0.],\n",
       "       [ 0.,  0.,  0.],\n",
       "       [ 0.,  0.,  0.],\n",
       "       [ 0.,  0.,  0.],\n",
       "       [ 0.,  0.,  0.],\n",
       "       [ 0.,  0.,  0.],\n",
       "       [ 0.,  0.,  0.],\n",
       "       [ 0.,  0.,  0.],\n",
       "       [ 0.,  0.,  0.],\n",
       "       [ 0.,  0.,  0.],\n",
       "       [ 0.,  0.,  0.],\n",
       "       [ 0.,  0.,  0.],\n",
       "       [ 0.,  0.,  0.],\n",
       "       [ 0.,  0.,  0.],\n",
       "       [ 0.,  0.,  0.],\n",
       "       [ 0.,  0.,  0.],\n",
       "       [ 0.,  0.,  0.],\n",
       "       [ 0.,  0.,  0.],\n",
       "       [ 0.,  0.,  0.],\n",
       "       [ 0.,  0.,  0.],\n",
       "       [ 0.,  0.,  0.],\n",
       "       [ 0.,  0.,  0.],\n",
       "       [ 0.,  0.,  0.],\n",
       "       [ 0.,  0.,  0.],\n",
       "       [ 0.,  0.,  0.],\n",
       "       [ 0.,  0.,  0.],\n",
       "       [ 0.,  0.,  0.],\n",
       "       [ 0.,  0.,  0.]])"
      ]
     },
     "execution_count": 7,
     "metadata": {},
     "output_type": "execute_result"
    }
   ],
   "source": [
    "# Create 3 dimensional array, length equal to merged zipcode data (29 records)\n",
    "krigdata = np.zeros((len(zipcode_merged),3))\n",
    "krigdata"
   ]
  },
  {
   "cell_type": "code",
   "execution_count": 8,
   "metadata": {
    "collapsed": false
   },
   "outputs": [
    {
     "data": {
      "text/plain": [
       "array([[  3.76000000e+02,   1.00191287e+06,   1.83803113e+05],\n",
       "       [  7.13000000e+02,   1.00836538e+06,   1.80768945e+05],\n",
       "       [  4.21000000e+02,   9.85172779e+05,   1.69813485e+05],\n",
       "       [  4.94000000e+02,   1.02664711e+06,   2.63909290e+05],\n",
       "       [  2.16400000e+03,   1.02005912e+06,   2.59287518e+05],\n",
       "       [  1.69900000e+03,   1.02829272e+06,   2.47902428e+05],\n",
       "       [  8.22000000e+02,   1.01237400e+06,   2.47427241e+05],\n",
       "       [  1.07200000e+03,   1.00976434e+06,   2.41746681e+05],\n",
       "       [  1.69800000e+03,   1.00535896e+06,   2.38316068e+05],\n",
       "       [  2.81000000e+02,   1.00461252e+06,   2.20393721e+05],\n",
       "       [  6.41000000e+02,   1.03375196e+06,   2.13025445e+05],\n",
       "       [  1.15600000e+03,   1.00620449e+06,   1.95763534e+05],\n",
       "       [  4.66000000e+02,   1.00021475e+06,   1.95030042e+05],\n",
       "       [  9.40000000e+02,   9.87194513e+05,   1.92431928e+05],\n",
       "       [  5.21000000e+02,   9.89857162e+05,   1.81769963e+05],\n",
       "       [  1.82900000e+03,   1.00248639e+06,   1.75967925e+05],\n",
       "       [  3.86000000e+02,   9.79603689e+05,   1.72876818e+05],\n",
       "       [  2.22000000e+02,   1.00903059e+06,   1.60369891e+05],\n",
       "       [  4.47000000e+02,   9.63294355e+05,   1.56090560e+05],\n",
       "       [  1.67000000e+02,   9.99714282e+05,   1.58289319e+05],\n",
       "       [  2.20000000e+02,   1.05036077e+06,   1.58235462e+05],\n",
       "       [  3.20000000e+02,   9.99281733e+05,   1.52086498e+05],\n",
       "       [  1.45000000e+02,   9.23582216e+05,   1.32956186e+05],\n",
       "       [  9.26000000e+02,   1.06642031e+06,   2.12186372e+05],\n",
       "       [  2.46000000e+02,   1.02685821e+06,   2.01880223e+05],\n",
       "       [  2.93000000e+02,   1.04161543e+06,   2.00113081e+05],\n",
       "       [  5.67000000e+02,   1.03076313e+06,   1.93718677e+05],\n",
       "       [  4.05000000e+02,   1.01794122e+06,   2.08485105e+05],\n",
       "       [  4.11000000e+02,   9.52154316e+05,   1.70046546e+05]])"
      ]
     },
     "execution_count": 8,
     "metadata": {},
     "output_type": "execute_result"
    }
   ],
   "source": [
    "# Write merge data into the array\n",
    "\n",
    "for x in range(len(krigdata)):\n",
    "    krigdata[x][0] = zipcode_merged.Count[x]\n",
    "    krigdata[x][1] = zipcode_merged.geometry[x].x\n",
    "    krigdata[x][2] = zipcode_merged.geometry[x].y\n",
    "\n",
    "krigdata"
   ]
  },
  {
   "cell_type": "code",
   "execution_count": 10,
   "metadata": {
    "collapsed": false
   },
   "outputs": [
    {
     "data": {
      "text/plain": [
       "<matplotlib.text.Text at 0x7f78bffaac90>"
      ]
     },
     "execution_count": 10,
     "metadata": {},
     "output_type": "execute_result"
    },
    {
     "data": {
      "image/png": "[encoded data removed]",
      "text/plain": [
       "<matplotlib.figure.Figure at 0x7f78c3264cd0>"
      ]
     },
     "metadata": {},
     "output_type": "display_data"
    }
   ],
   "source": [
    "#plot the array\n",
    "pl.figure(figsize=(10,10))\n",
    "pl.scatter(krigdata[:,1], krigdata[:,2], c=krigdata[:,0], s=100, cmap='bone')\n",
    "pl.xlabel(\"Easting (m)\", fontsize=20)\n",
    "pl.ylabel(\"Northing (m)\", fontsize=20)\n",
    "plt.title(\"Number of Dismissals\", fontsize = 20)"
   ]
  },
  {
   "cell_type": "markdown",
   "metadata": {},
   "source": [
    "### Figure 1. Facility Dismissals for Asthma by Zipcode Center"
   ]
  },
  {
   "cell_type": "code",
   "execution_count": null,
   "metadata": {
    "collapsed": true
   },
   "outputs": [],
   "source": []
  }
 ],
 "metadata": {
  "kernelspec": {
   "display_name": "PUI2016_Python2",
   "language": "python",
   "name": "pui2016_python2"
  },
  "language_info": {
   "codemirror_mode": {
    "name": "ipython",
    "version": 2
   },
   "file_extension": ".py",
   "mimetype": "text/x-python",
   "name": "python",
   "nbconvert_exporter": "python",
   "pygments_lexer": "ipython2",
   "version": "2.7.12"
  }
 },
 "nbformat": 4,
 "nbformat_minor": 0
}
